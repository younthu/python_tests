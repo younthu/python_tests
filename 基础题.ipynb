{
 "cells": [
  {
   "cell_type": "markdown",
   "metadata": {},
   "source": [
    "来源: https://blog.csdn.net/Jerry_1126/article/details/44023949\n",
    "        "
   ]
  },
  {
   "cell_type": "markdown",
   "metadata": {},
   "source": [
    "【题目:001】| 说说你对zen of python的理解，你有什么办法看到它?\n",
    "\n",
    "Python之禅,Python秉承一种独特的简洁和可读行高的语法，以及高度一致的编程模式，符合“大脑思维习惯”，使Python易于学习、理解和记忆。Python同时采用了一条极简主义的设计理念，了解完整的Python哲学理念，可以在任何一个Python交互解释器中键入import this命令，这是Python隐藏的一个彩蛋:描绘了一系列Python设计原则。如今已是Python社区内流行的行话\"EIBTI\"，明了胜于晦涩这条规则的简称. 在Python的思维方式中，明了胜于晦涩，简洁胜于复杂。\n"
   ]
  },
  {
   "cell_type": "code",
   "execution_count": 26,
   "metadata": {},
   "outputs": [
    {
     "name": "stdout",
     "output_type": "stream",
     "text": [
      "The Zen of Python, by Tim Peters\n",
      "\n",
      "Beautiful is better than ugly.\n",
      "Explicit is better than implicit.\n",
      "Simple is better than complex.\n",
      "Complex is better than complicated.\n",
      "Flat is better than nested.\n",
      "Sparse is better than dense.\n",
      "Readability counts.\n",
      "Special cases aren't special enough to break the rules.\n",
      "Although practicality beats purity.\n",
      "Errors should never pass silently.\n",
      "Unless explicitly silenced.\n",
      "In the face of ambiguity, refuse the temptation to guess.\n",
      "There should be one-- and preferably only one --obvious way to do it.\n",
      "Although that way may not be obvious at first unless you're Dutch.\n",
      "Now is better than never.\n",
      "Although never is often better than *right* now.\n",
      "If the implementation is hard to explain, it's a bad idea.\n",
      "If the implementation is easy to explain, it may be a good idea.\n",
      "Namespaces are one honking great idea -- let's do more of those!\n"
     ]
    }
   ],
   "source": [
    "import this"
   ]
  },
  {
   "cell_type": "markdown",
   "metadata": {},
   "source": [
    "【题目:002】| 说说你对pythonic的看法，尝试解决下面的小问题\n",
    "\n",
    "#简洁，明了，严谨，灵活\n",
    "\n",
    "~~~python\n",
    "#交换两个变量值  \n",
    "a,b = b,a  \n",
    "  \n",
    "#去掉list中的重复元素  \n",
    "old_list = [1,1,1,3,4]  \n",
    "new_list = list(set(old_list))  \n",
    "  \n",
    "#翻转一个字符串  \n",
    "s = 'abcde'  \n",
    "ss = s[::-1]  \n",
    "  \n",
    "#用两个元素之间有对应关系的list构造一个dict  \n",
    "names = ['jianpx', 'yue']  \n",
    "ages = [23, 40]  \n",
    "m = dict(zip(names,ages))  \n",
    "  \n",
    "#将数量较多的字符串相连，如何效率较高，为什么  \n",
    "fruits = ['apple', 'banana']  \n",
    "result = ''.join(fruits)  \n",
    "  \n",
    "#python字符串效率问题之一就是在连接字符串的时候使用‘+’号，例如 s = ‘s1’ + ‘s2’ + ‘s3’ + ...+’sN’，总共将N个字符串连接起来， 但是使用+号的话，python需要申请N-1次内存空间， 然后进行字符串拷贝。原因是字符串对象PyStringObject在python当中是不可变 对象，所以每当需要合并两个字符串的时候，就要重新申请一个新的内存空间 （大小为两个字符串长度之和）来给这个合并之后的新字符串，然后进行拷贝。 所以用+号效率非常低。建议在连接字符串的时候使用字符串本身的方法 join（list），这个方法能提高效率，原因是它只是申请了一次内存空间， 因为它可以遍历list中的元素计算出总共需要申请的内存空间的大小，一次申请完。  \n",
    "~~~"
   ]
  },
  {
   "cell_type": "markdown",
   "metadata": {},
   "source": [
    "【题目:003】| 你调试python代码的方法有哪些?\n",
    "    \n",
    "~~~\n",
    "具体IDE都有调试，比如:IDLE, Eclipse+Pydev都可以设置断点调试。 \n",
    "pdb模块也可以做调试。\n",
    "还有PyChecker和Pylint\n",
    "PyChecker是一个python代码的静态分析工具，它可以帮助查找python代码的bug, 会对代码的复杂度和格式提出警告  \n",
    "Pylint   是另外一个工具可以进行coding standard检查。 \n",
    "~~~"
   ]
  },
  {
   "cell_type": "markdown",
   "metadata": {},
   "source": [
    "【题目:004】|  你在github上都fork过哪些python库，列举一下你经常使用的，每个库用一句话描述下其功能"
   ]
  },
  {
   "cell_type": "markdown",
   "metadata": {},
   "source": [
    "【题目:005】|  什么是GIL?\n",
    "\n",
    "~~~\n",
    "什么是GIL(Global Interpreter Lock)全局解释器锁? 简单地说就是:\n",
    "每一个interpreter进程,只能同时仅有一个线程来执行, 获得相关的锁, 存取相关的资源.\n",
    "那么很容易就会发现,如果一个interpreter进程只能有一个线程来执行, \n",
    "多线程的并发则成为不可能, 即使这几个线程之间不存在资源的竞争.\n",
    "从理论上讲,我们要尽可能地使程序更加并行, 能够充分利用多核的功能.\n",
    "~~~"
   ]
  },
  {
   "cell_type": "markdown",
   "metadata": {},
   "source": [
    "【题目:006】|  什么是元类(meta_class)?"
   ]
  },
  {
   "cell_type": "code",
   "execution_count": 53,
   "metadata": {},
   "outputs": [
    {
     "data": {
      "text/plain": [
       "(str,\n",
       " str,\n",
       " type,\n",
       " type,\n",
       " 140552628422808,\n",
       " '男',\n",
       " '自定义属性1',\n",
       " 'a barked',\n",
       " 'Class A barked')"
      ]
     },
     "execution_count": 53,
     "metadata": {},
     "output_type": "execute_result"
    }
   ],
   "source": [
    "# https://www.cnblogs.com/JetpropelledSnake/p/9094103.html\n",
    "\n",
    "import types\n",
    "\n",
    "class A():\n",
    "    name = \"Class A\"\n",
    "    pass\n",
    "\n",
    "def bark(self):\n",
    "    return \"\".join([self.name, \" barked\"])\n",
    "    \n",
    "MyShinyClass = type('MyShinyClass', (), {\"name\" :\"a\", \"gender\" :\"男\", \"prop1\": \"自定义属性1\", \"bark\": bark})  # 返回一个类对象, type(类名, 父类的元组（针对继承的情况，可以为空），包含属性的字典（名称和值）)\n",
    "objA = A()\n",
    "objA.bark = types.MethodType(bark, objA)\n",
    "\n",
    "(\"\".__class__,\n",
    "type(\"\"),\n",
    " type(MyShinyClass),\n",
    " MyShinyClass.__class__,\n",
    " id(MyShinyClass),\n",
    "MyShinyClass().gender,\n",
    "MyShinyClass().prop1,\n",
    "MyShinyClass().bark(),\n",
    "objA.bark()\n",
    ")\n",
    "\n"
   ]
  },
  {
   "cell_type": "markdown",
   "metadata": {},
   "source": [
    "【题目:007】|  对比一下dict中items与iteritems? pyton3里已经废除iteritems()和viewitems()"
   ]
  },
  {
   "cell_type": "code",
   "execution_count": null,
   "metadata": {
    "collapsed": true
   },
   "outputs": [],
   "source": [
    "D = {'a':1,'b':2,'c':3,'d':4} \n",
    "(D.items(),     # 一次性取出所有东西\n",
    " D.iteritems()  # D = {'a':1,'b':2,'c':3,'d':4}  \n",
    ")"
   ]
  },
  {
   "cell_type": "markdown",
   "metadata": {},
   "source": [
    "# 【题目:008】|  是否遇到过python的模块间循环引用的问题，如何避免它?\n",
    "\n",
    "~~~\n",
    "这是代码结构设计的问题，模块依赖和类依赖\n",
    "如果老是觉得碰到循环引用，很可能是模块的分界线划错地方了。可能是把应该在一起的东西硬拆开了，可能是某些职责放错地方了，可能是应该抽象的东西没抽象\n",
    "总之微观代码规范可能并不能帮到太多，重要的是更宏观的划分模块的经验技巧，推荐uml，脑图，白板等等图形化的工具先梳理清楚整个系统的总体结构和职责分工\n",
    " \n",
    "采取办法，从设计模式上来规避这个问题，比如:\n",
    "1. 使用 “__all__” 白名单开放接口\n",
    "2. 尽量避免 import\n",
    "~~~"
   ]
  },
  {
   "cell_type": "markdown",
   "metadata": {},
   "source": [
    "# 【题目:009】|  有用过with statement吗？它的好处是什么？\n",
    "~~~python\n",
    "with open('text.txt') as myfile:  \n",
    "    while True:  \n",
    "         line = myfile.readline()  \n",
    "    if not line:  \n",
    "        break  \n",
    "    print line,  \n",
    "  \n",
    "# with语句使用所谓的上下文管理器对代码块进行包装，允许上下文管理器实现一些设置和清理操作。  \n",
    "# 例如：文件可以作为上下文管理器使用，它们可以关闭自身作为清理的一部分。  \n",
    "# NOTE：在PYTHON2.5中，需要使用from __future__ import with_statement进行with语句的导入  \n",
    "~~~"
   ]
  },
  {
   "cell_type": "markdown",
   "metadata": {},
   "source": [
    "【题目:010】|用Python生成指定长度的斐波那契数列"
   ]
  },
  {
   "cell_type": "code",
   "execution_count": null,
   "metadata": {
    "collapsed": true
   },
   "outputs": [],
   "source": [
    "def fibs(x):\n",
    "    result = [0, 1]\n",
    "    for index in range(x-2):\n",
    "        result.append(result[-2]+result[-1])\n",
    "    return result\n",
    " \n",
    "if __name__=='__main__':\n",
    "    num = input('Enter one number: ')\n",
    "    print(fibs(int(num)))"
   ]
  },
  {
   "cell_type": "markdown",
   "metadata": {},
   "source": [
    "# 【题目:011】|  Python里如何生产随机数"
   ]
  },
  {
   "cell_type": "code",
   "execution_count": 71,
   "metadata": {},
   "outputs": [
    {
     "name": "stdout",
     "output_type": "stream",
     "text": [
      "random.random():  0.47552521203741305\n",
      "random.randint(1,11) 5\n",
      "random.choice(range(11)) 8\n",
      "[0, 6]\n",
      "[9, 17, 18, 3, 2, 8, 7, 15, 0, 6, 4, 16, 19, 5, 13, 11, 14, 12, 10, 1]\n"
     ]
    }
   ],
   "source": [
    "import random\n",
    "\n",
    "print(\"random.random(): \", random.random())\n",
    "print(\"random.randint(1,11)\", random.randint(1,11))\n",
    "print(\"random.choice(range(11))\", random.choice(range(11)))\n",
    "print(random.sample(range(10),2))\n",
    "a = list(range(20))\n",
    "random.shuffle(a)\n",
    "print(a)"
   ]
  },
  {
   "cell_type": "markdown",
   "metadata": {},
   "source": [
    "【题目:012】|  Python里如何反序的迭代一个序列"
   ]
  },
  {
   "cell_type": "code",
   "execution_count": 74,
   "metadata": {},
   "outputs": [
    {
     "name": "stdout",
     "output_type": "stream",
     "text": [
      "['d', 'c', 'b', 'a', 5, 4, 3, 2, 1]\n",
      "[1, 2, 3, 4, 5, 'a', 'b', 'c', 'd']\n"
     ]
    }
   ],
   "source": [
    "a = [1,2,3,4,5,'a','b','c','d']\n",
    "a.reverse()\n",
    "print(a)\n",
    "print(a[::-1])"
   ]
  },
  {
   "cell_type": "code",
   "execution_count": null,
   "metadata": {
    "collapsed": true
   },
   "outputs": [],
   "source": [
    "【题目:013】|  Python中如何定义一个函数"
   ]
  },
  {
   "cell_type": "code",
   "execution_count": 75,
   "metadata": {},
   "outputs": [
    {
     "data": {
      "text/plain": [
       "4"
      ]
     },
     "execution_count": 75,
     "metadata": {},
     "output_type": "execute_result"
    }
   ],
   "source": [
    "def func(arg, *args, **kwagrs):   #普通函数\n",
    "    func_body\n",
    "    return \n",
    " \n",
    "f = lambda x: x **2                   #匿名函数\n",
    "f(2)"
   ]
  },
  {
   "cell_type": "markdown",
   "metadata": {},
   "source": [
    "【题目:014】|  Python匹配HTML tag的时候，<.*>和<.*?>有什么区别\n",
    "    \n",
    "~~~\n",
    "import re\n",
    "s = ‘<html><head><title>Title</title>’\n",
    "print(re.match(‘<.*>’, s).group())\n",
    " \n",
    "会返回一个匹配<html><head><title>Title</title>而不是<html>\n",
    " \n",
    "而\n",
    " \n",
    "import re\n",
    "s = ‘<html><head><title>Title</title>’\n",
    "print(re.match(‘<.*?>’, s).group())\n",
    " \n",
    "则会返回<html>\n",
    " \n",
    "<.*>这种匹配称作贪心匹配 <.*?>称作非贪心匹配\n",
    "~~~"
   ]
  },
  {
   "cell_type": "markdown",
   "metadata": {},
   "source": [
    "【题目:015】|  Python里面search()和match()的区别"
   ]
  },
  {
   "cell_type": "code",
   "execution_count": 78,
   "metadata": {},
   "outputs": [
    {
     "data": {
      "text/plain": [
       "'python'"
      ]
     },
     "execution_count": 78,
     "metadata": {},
     "output_type": "execute_result"
    }
   ],
   "source": [
    "import re\n",
    "\n",
    "\n",
    "re.match(r'python','Programing Python, should be pythonic')\n",
    "obj1 = re.match(r'python','Programing Python, should be pythonic')  #返回None\n",
    "obj2 = re.search(r'python','Programing Python, should be pythonic') #找到pythonic\n",
    "obj2.group()\n",
    "\n",
    "#re.match只匹配字符串的开始，如果字符串开始不符合正则表达式，则匹配失败，函数返回None；\n",
    "#re.search匹配整个字符串，直到找到一个匹配。"
   ]
  },
  {
   "cell_type": "markdown",
   "metadata": {},
   "source": [
    "【题目:016】|  Python程序中文输出问题怎么解决\n",
    "    \n",
    "~~~python\n",
    "在Python3中，对中文进行了全面的支持，但在Python2.x中需要进行相关的设置才能使用中文。否则会出现乱码。\n",
    "Python默认采取的ASCII编码，字母、标点和其他字符只使用一个字节来表示，但对于中文字符来说，一个字节满足不了需求。\n",
    "为了能在计算机中表示所有的中文字符，中文编码采用两个字节表示。如果中文编码和ASCII混合使用的话，就会导致解码错误，从而才生乱码。\n",
    "解决办法:\n",
    "交互式命令中：一般不会出现乱码，无需做处理 \n",
    "py脚本文件中：跨字符集必须做设置，否则乱码\n",
    "1. 首先在开头一句添加:\n",
    "# coding = utf-8  \n",
    "# 或  \n",
    "# coding = UTF-8  \n",
    "# 或  \n",
    "# -*- coding: utf-8 -*- \n",
    "2. 其次需将文件保存为UTF-8的格式！\n",
    "3. 最后: s.decode('utf-8').encode('gbk')\n",
    "~~~"
   ]
  },
  {
   "cell_type": "markdown",
   "metadata": {},
   "source": [
    "【题目:017】|  什么是lambda函数\n",
    "\n",
    "~~~python\n",
    "函数使用:\n",
    "1. 代码块重复，这时候必须考虑到函数，降低程序的冗余度\n",
    "2. 代码块复杂，这时候必须考虑到函数，降低程序的复杂度\n",
    "Python有两种函数,一种是def定义，一种是lambda函数()\n",
    "当程序代码很短，且该函数只使用一次，为了程序的简洁，及节省变量内存占用空间，引入了匿名函数这个概念\n",
    ">>> nums = range(2,20)\n",
    ">>> for i in nums:\n",
    "        nums = filter(lambda x:x==i or x % i,nums)\n",
    ">>> nums\n",
    "[2, 3, 5, 7, 11, 13, 17, 19]\n",
    "~~~"
   ]
  },
  {
   "cell_type": "markdown",
   "metadata": {},
   "source": [
    "【题目:018】|  Python里面如何实现tuple和list的转换?"
   ]
  },
  {
   "cell_type": "code",
   "execution_count": 82,
   "metadata": {},
   "outputs": [
    {
     "data": {
      "text/plain": [
       "(1, 2, 3, 4, 5)"
      ]
     },
     "execution_count": 82,
     "metadata": {},
     "output_type": "execute_result"
    }
   ],
   "source": [
    "tuple([1,2,3,4,5])"
   ]
  },
  {
   "cell_type": "code",
   "execution_count": null,
   "metadata": {
    "collapsed": true
   },
   "outputs": [],
   "source": [
    "【题目:019】|  请写出一段Python代码实现删除一个list里面的重复元素"
   ]
  },
  {
   "cell_type": "code",
   "execution_count": 83,
   "metadata": {},
   "outputs": [
    {
     "name": "stdout",
     "output_type": "stream",
     "text": [
      "[4, 1, 3, 2, 5]\n"
     ]
    }
   ],
   "source": [
    "L1 = [4,1,3,2,3,5,1]\n",
    "L2 = []\n",
    "[L2.append(i) for i in L1 if i not in L2]\n",
    "print(L2)"
   ]
  },
  {
   "cell_type": "markdown",
   "metadata": {},
   "source": [
    "【题目:020】|  Python是如何进行类型转换的?\n",
    "\n",
    "~~~\n",
    "函数\t                    描述\n",
    "int(x [,base])              将x转换为一个整数\n",
    "long(x [,base] )            将x转换为一个长整数\n",
    "float(x)                    将x转换到一个浮点数\n",
    "complex(real [,imag])       创建一个复数\n",
    "str(x)                      将对象 x 转换为字符串\n",
    "repr(x)                     将对象 x 转换为表达式字符串\n",
    "eval(str)                   用来计算在字符串中的有效Python表达式,并返回一个对象\n",
    "tuple(s)                    将序列 s 转换为一个元组\n",
    "list(s)                     将序列 s 转换为一个列表\n",
    "set(s)                      转换为可变集合\n",
    "dict(d)                     创建一个字典。d 必须是一个序列 (key,value)元组。\n",
    "frozenset(s)                转换为不可变集合\n",
    "chr(x)                      将一个整数转换为一个字符\n",
    "unichr(x)                   将一个整数转换为Unicode字符\n",
    "ord(x)                      将一个字符转换为它的整数值\n",
    "hex(x)                      将一个整数转换为一个十六进制字符串\n",
    "oct(x)                      将一个整数转换为一个八进制字符串\n",
    "~~~"
   ]
  },
  {
   "cell_type": "markdown",
   "metadata": {},
   "source": [
    "【题目:022】|  Python里面如何拷贝一个对象\n",
    "~~~\n",
    "切片S[:]  # 注不能应用于字典\n",
    "深浅宝贝  # 能应用于所有序列和字典\n",
    "1. 浅拷贝D.copy()方法\n",
    "2. 深拷贝deepcopy(D)方法\n",
    "~~~"
   ]
  },
  {
   "cell_type": "markdown",
   "metadata": {},
   "source": [
    "【题目:023】|  Python中pass语句的作用是什么\n",
    "\n",
    "    pass语句什么也不做,一般作为占位符或者创建占位程序"
   ]
  },
  {
   "cell_type": "markdown",
   "metadata": {},
   "source": [
    "【题目:037】|  默写尽可能多的str对象的方法\n",
    "\n",
    "~~~python\n",
    "#方法                                   #描述  \n",
    "#-------------------------------------------------------------------------------------------------  \n",
    "S.capitalize()                          #返回首字母大写的字符串的副本  \n",
    "S.center(width[,fillchar])              #返回一个长度为max(len(S),width),S居中，两侧fillchar填充  \n",
    "S.count(sub[,start[,end]])              #计算子字符串sub的出现次数，可将搜索范围限制为S[start:end]  \n",
    "S.decode([encoding[,error]])            #返回使用给定编码方式的字符串的解码版本，由error指定错误处理方式  \n",
    "S.endswith(suffix[start[,end]])         #检查S是否以suffix结尾，可给定[start:end]来选择匹配的范围  \n",
    "S.expandtabs([tabsize])                 #返回字符串的副本，其中tab字符会使用空格进行扩展，可选择tabsize  \n",
    "S.find(sun[,start[,end]])               #返回子字符串sub的第一个索引，不存在则为-1,可选择搜索范围  \n",
    "S.index(sub[,start[,end]])              #返回子字符串sub的第一个索引，不存在则引发ValueError异常.  \n",
    "S.isalnum()                             #检查字符串是否由字母或数字字符组成  \n",
    "S.isalpha()                             #检查字符串是否由字母字符组成  \n",
    "S.isdigit()                             #检查字符串是否由数字字符组成  \n",
    "S.islower()                             #检查字符串是否由小写字母组成  \n",
    "S.isspace()                             #检查字符串是否由空格组成  \n",
    "S.istitle()                             #检查字符串时候首字母大写  \n",
    "S.isupper()                             #检查字符串是否由大写字母组成  \n",
    "S.join(sequence)                        #返回其中sequence的字符串元素由S连接的字符串  \n",
    "S.ljust(width[,fillchar])               #返回S副本左对齐的字符串,长度max(len(S),W),右侧fillchar填充  \n",
    "S.lower()                               #返回所有字符串都为小写的副本  \n",
    "S.lstrip([char])                        #向左移除所有char，默认移除(空格,tab,\\n)  \n",
    "S.partition(seq)                        #在字符串中搜索seq并返回  \n",
    "S.replace(old,new[,max])                #将new替换olad,最多可替换max次  \n",
    "S.rfind(sub[,start[,end]])              #返回sub所在的最后一个索引，不存在则为-1,可定搜索范围S[start:end]  \n",
    "S.rindex(sub[,start[,end]])             #返回sub所在的最后一个索引，不存在则会引发ValueError异常。  \n",
    "S.rjust(width[,fillchar])               #返回S副本右对齐的字符串,长度max(len(S),W),左侧fillchar填充  \n",
    "S.rpartition(seq)                       #同Partition,但从右侧开始查找  \n",
    "S.rstip([char])                         #向右移除所有char，默认移除(空格,tab,\\n)  \n",
    "S.rsplit(sep[,maxsplit])                #同split,但是使用maxsplit时是从右往左进行计数  \n",
    "S.split(sep[,maxsplit])                 #使用sep做为分割符,可使用maxsplit指定最大切分数  \n",
    "S.zfill(width)                          #在S的左侧以0填充width个字符  \n",
    "S.upper()                               #返回S的副本，所有字符大写  \n",
    "S.splitlines([keepends])                #返回S中所有行的列表，可选择是否包括换行符  \n",
    "S.startswith(prefix[,start[,end]])      #检查S是否以prefix开始，可用[start,end]来定义范围  \n",
    "S.strip([chars])                        #移除所有字符串中含chars的字符，默认移除(空格，tab,\\n)  \n",
    "S.swapcase()                            #返回S的副本，所有大小写交换  \n",
    "S.title()                               #返回S的副本，所有单词以大写字母开头  \n",
    "S.translate(table[,deletechars])        #返回S的副本，所有字符都使用table进行的转换，可选择删除出现在deletechars中的所有字符  \n",
    "~~~"
   ]
  },
  {
   "cell_type": "markdown",
   "metadata": {},
   "source": [
    "【题目:062】| 编写一个简单的ini文件解释器\n",
    "\n",
    "db_config.ini\n",
    "~~~\n",
    "[baseconf]\n",
    "host=127.0.0.1\n",
    "port=3306\n",
    "user=root\n",
    "password=root\n",
    "db_name=evaluting_sys\n",
    "[concurrent]\n",
    "processor=20\n",
    "~~~"
   ]
  },
  {
   "cell_type": "code",
   "execution_count": null,
   "metadata": {
    "collapsed": true
   },
   "outputs": [],
   "source": [
    "import sys,os\n",
    "import ConfigParser\n",
    "def test(config_file_path):\n",
    "    cf = ConfigParser.ConfigParser()\n",
    "    cf.read(config_file_path)\n",
    " \n",
    "    s = cf.sections()\n",
    "    print 'section:', s\n",
    " \n",
    "    o = cf.options(\"baseconf\")\n",
    "    print 'options:', o\n",
    " \n",
    "    v = cf.items(\"baseconf\")\n",
    "    print 'db:', v\n",
    " \n",
    "    db_host = cf.get(\"baseconf\", \"host\")\n",
    "    db_port = cf.getint(\"baseconf\", \"port\")\n",
    "    db_user = cf.get(\"baseconf\", \"user\")\n",
    "    db_pwd = cf.get(\"baseconf\", \"password\")\n",
    " \n",
    "    print db_host, db_port, db_user, db_pwd\n",
    " \n",
    "    cf.set(\"baseconf\", \"db_pass\", \"123456\")\n",
    "    cf.write(open(\"config_file_path\", \"w\"))\n",
    "if __name__ == \"__main__\":\n",
    "    test(\"../conf/db_config.ini\")"
   ]
  },
  {
   "cell_type": "markdown",
   "metadata": {},
   "source": [
    "# 新式类和旧式类\n",
    "\n",
    " Python新模式的class，即从object继承下来的类有一个变量是__slots__，slots的作用是阻止在实例化类时为实例分配dict，默认情况下每个类都会有一个dict,通过__dict__访问，这个dict维护了这个实例的所有属性，dict会占据大量内存，这在属性数量很少，但是类的实例数目很多的情况可以减少内存占用。基本上，__slots__是一个类变量，有一个序列型对象组成，由所有合法标识构成的实例属性的集合来表示。它可以是一个列表，元组或可迭代对象。也可以是由标识实例能拥有的唯一的属性的简单字符串，任何试图创建一个其名不在__slots__中的名字的实例属性都将导致AttributeError异常。\n"
   ]
  },
  {
   "cell_type": "code",
   "execution_count": 96,
   "metadata": {},
   "outputs": [
    {
     "data": {
      "text/plain": [
       "100"
      ]
     },
     "execution_count": 96,
     "metadata": {},
     "output_type": "execute_result"
    }
   ],
   "source": [
    "class O():\n",
    "    pass;\n",
    "class N(object):\n",
    "    __slots__ = ('x','y')\n",
    "    def __init__(self,x=0,y=0):\n",
    "        self.x = x\n",
    "        self.y = y\n",
    "        \n",
    "p = N()\n",
    "# p.z = 100 , throw exception\n",
    "# print( p.z)\n",
    "o = O()\n",
    "o.__class__\n",
    "o.__dict__\n",
    "o.z = 100\n",
    "o.z"
   ]
  },
  {
   "cell_type": "markdown",
   "metadata": {},
   "source": [
    "<span style=\"color:red\">【题目:069】</span>| 请问如何修改以下Python代码，使得下面的代码调用类A的show方法?\n",
    "    \n",
    "~~~ python\n",
    "class A(object):\n",
    "    def show(self):\n",
    "        print(\"A show\")\n",
    " \n",
    "class B(A):\n",
    "     def show(self):\n",
    "         print(\"B show\")\n",
    " \n",
    "b = B()\n",
    "b.show()\n",
    "~~~"
   ]
  },
  {
   "cell_type": "markdown",
   "metadata": {},
   "source": [
    "答案: 题目是调用A的show方法，不仅仅是show方法中的内容，可以通过class方法指定到A中的类对象中去."
   ]
  },
  {
   "cell_type": "code",
   "execution_count": 2,
   "metadata": {
    "collapsed": true
   },
   "outputs": [],
   "source": [
    "class A(object):\n",
    "    def show(self):\n",
    "        print(\"A show\")\n",
    "\n",
    "class B(A):\n",
    "     def show(self):\n",
    "         print(\"B show\")\n"
   ]
  },
  {
   "cell_type": "code",
   "execution_count": 4,
   "metadata": {},
   "outputs": [
    {
     "name": "stdout",
     "output_type": "stream",
     "text": [
      "B show\n",
      "A show\n"
     ]
    }
   ],
   "source": [
    "b = B()\n",
    "b.show()\n",
    "b.__class__ = A\n",
    "b.show()"
   ]
  },
  {
   "cell_type": "markdown",
   "metadata": {},
   "source": [
    "【题目:070】| 请问如何修改以下Python代码，使得代码能够运行？\n",
    "~~~python\n",
    "class A(object):\n",
    "    def __init__(self, a, b):\n",
    "        self.__a = a\n",
    "        self.__b = b\n",
    " \n",
    "    def myprint(self):\n",
    "        print('a =', self.__a, 'b =', self.__b)\n",
    " \n",
    "a1 = A(10, 20)\n",
    "a1.myprint()\n",
    "a1(80)\n",
    "~~~"
   ]
  },
  {
   "cell_type": "markdown",
   "metadata": {},
   "source": [
    "答案:为了使方法对象能直接被调用，需要实现call方法"
   ]
  },
  {
   "cell_type": "code",
   "execution_count": 9,
   "metadata": {},
   "outputs": [
    {
     "name": "stdout",
     "output_type": "stream",
     "text": [
      "a = 10 b = 20\n",
      "call: 90\n"
     ]
    }
   ],
   "source": [
    "class A(object):\n",
    "    def __init__(self, a, b):\n",
    "        self.__a = a\n",
    "        self.__b = b\n",
    " \n",
    "    def myprint(self):\n",
    "        print(\"a =\", self.__a, \"b =\", self.__b)\n",
    "        \n",
    "    def __call__(self, num):            # 通过num传参数\n",
    "        print(\"call:\", num + self.__a)  # 随便做些什么操作\n",
    " \n",
    "a1 = A(10, 20)\n",
    "a1.myprint()\n",
    "a1(80)"
   ]
  },
  {
   "cell_type": "markdown",
   "metadata": {},
   "source": [
    "【题目:071】| 如何添加代码，使得没有定义的方法都调用mydefault方法？\n",
    "~~~python\n",
    "class A(object):  \n",
    "    def __init__(self, a, b):  \n",
    "        self.a1 = a  \n",
    "        self.b1 = b  \n",
    "        print(‘init’)  \n",
    "          \n",
    "    def mydefault(self):  \n",
    "        print(‘default’)  \n",
    "          \n",
    "a1 = A(10, 20)  \n",
    "a1.fn1()  \n",
    "a1.fn2()  \n",
    "a1.fn3()\n",
    "~~~"
   ]
  },
  {
   "cell_type": "markdown",
   "metadata": {},
   "source": [
    "答案: 可以使用__getattr__方法解决这个问题，__getattr__函数的作用： 如果属性查找（attribute lookup）在实例以及对应的类中（通过__dict__)失败， 那么会调用到类的__getattr__函数, 如果没有定义这个函数，那么抛出AttributeError异常。由此可见，__getattr__一定是作用于属性查找的最后一步，兜底\n"
   ]
  },
  {
   "cell_type": "code",
   "execution_count": 97,
   "metadata": {},
   "outputs": [
    {
     "name": "stdout",
     "output_type": "stream",
     "text": [
      "init\n",
      "default \n",
      "default \n",
      "default  eeeee\n"
     ]
    },
    {
     "data": {
      "text/plain": [
       "10"
      ]
     },
     "execution_count": 97,
     "metadata": {},
     "output_type": "execute_result"
    }
   ],
   "source": [
    "class A(object):\n",
    "    def __init__(self, a, b):\n",
    "        self.a1 = a\n",
    "        self.b1 = b\n",
    "        print(\"init\")\n",
    " \n",
    "    def mydefault(self, *args):\n",
    "        print(\"default \", *args)\n",
    " \n",
    "    def __getattr__(self, item):\n",
    "        return self.mydefault    # 指向mydefault()方法\n",
    " \n",
    " \n",
    "a1 = A(10, 20)\n",
    "a1.fn1()\n",
    "a1.fn2()\n",
    "a1.fn3(\"eeeee\")\n",
    "a1.a1"
   ]
  },
  {
   "cell_type": "markdown",
   "metadata": {},
   "source": [
    "【题目:072】| 写一个函数，接收整数参数n，返回一个函数，函数返回n和参数的积?"
   ]
  },
  {
   "cell_type": "code",
   "execution_count": 23,
   "metadata": {
    "scrolled": true
   },
   "outputs": [
    {
     "data": {
      "text/plain": [
       "220"
      ]
     },
     "execution_count": 23,
     "metadata": {},
     "output_type": "execute_result"
    }
   ],
   "source": [
    "def multi(n):\n",
    "    def f2(x):\n",
    "        return n * x\n",
    "    return f2\n",
    "\n",
    "f = multi(10)\n",
    "f(22)"
   ]
  },
  {
   "cell_type": "markdown",
   "metadata": {},
   "source": [
    "【题目:073】| 请问下面的代码有什么隐患？"
   ]
  },
  {
   "cell_type": "code",
   "execution_count": null,
   "metadata": {
    "collapsed": true
   },
   "outputs": [],
   "source": [
    "def strtest1(num):\n",
    "    str = 'first'\n",
    "    for i in range(num):\n",
    "        str += 'x'\n",
    "    return str"
   ]
  },
  {
   "cell_type": "markdown",
   "metadata": {},
   "source": [
    "答案: 由于变量str是个不可变对象，每次迭代，Python都会生成新的str对象来存储新的字符串，num越大，创建的str对象越多，内存消耗越大。"
   ]
  },
  {
   "cell_type": "markdown",
   "metadata": {},
   "source": [
    "# 一行代码实现9*9乘法表"
   ]
  },
  {
   "cell_type": "code",
   "execution_count": 98,
   "metadata": {},
   "outputs": [
    {
     "name": "stdout",
     "output_type": "stream",
     "text": [
      "1*1=1 \n",
      "1*2=2  2*2=4 \n",
      "1*3=3  2*3=6  3*3=9 \n",
      "1*4=4  2*4=8  3*4=12 4*4=16\n",
      "1*5=5  2*5=10 3*5=15 4*5=20 5*5=25\n",
      "1*6=6  2*6=12 3*6=18 4*6=24 5*6=30 6*6=36\n",
      "1*7=7  2*7=14 3*7=21 4*7=28 5*7=35 6*7=42 7*7=49\n",
      "1*8=8  2*8=16 3*8=24 4*8=32 5*8=40 6*8=48 7*8=56 8*8=64\n",
      "1*9=9  2*9=18 3*9=27 4*9=36 5*9=45 6*9=54 7*9=63 8*9=72 9*9=81\n"
     ]
    }
   ],
   "source": [
    "print('\\n'.join([' '.join(['%s*%s=%-2s' % (j, i, i * j) for j in range(1, i + 1)]) for i in range(1, 10)]))"
   ]
  },
  {
   "cell_type": "markdown",
   "metadata": {
    "collapsed": true
   },
   "source": [
    "# 什么是pickling和unpickling？"
   ]
  },
  {
   "cell_type": "markdown",
   "metadata": {},
   "source": [
    "# 什么是猴子补丁\n"
   ]
  },
  {
   "cell_type": "code",
   "execution_count": null,
   "metadata": {
    "collapsed": true
   },
   "outputs": [],
   "source": [
    "# https://mp.weixin.qq.com/s?__biz=MzA5NzgzODI5NA==&mid=2454037534&idx=5&sn=f9ccc07c7298af6ae67ae3615a108fe6&chksm=872bb1a7b05c38b1b55483512999a837aa88ab3e3efa66b6fb9a30c0197e5b7a5bd5b5699b31&scene=21#wechat_redirect\n",
    "import json\n",
    "import ujson\n",
    "\n",
    "def monkey_patch_json():  \n",
    "    json.__name__ = 'ujson'  \n",
    "    json.dumps = ujson.dumps\n",
    "    json.loads = ujson.loads\n",
    "\n",
    "monkey_patch_json()"
   ]
  },
  {
   "cell_type": "markdown",
   "metadata": {},
   "source": [
    "# @classmethod 和@staticmethod 用法和区别"
   ]
  },
  {
   "cell_type": "markdown",
   "metadata": {},
   "source": [
    "# 如何判断一个对象是函数还是方法？"
   ]
  },
  {
   "cell_type": "code",
   "execution_count": null,
   "metadata": {
    "collapsed": true
   },
   "outputs": [],
   "source": [
    "add = lambda x,y: x+y\n",
    "def test():\n",
    "    pass\n",
    "hasattr(add, '__call__'), hasattr(\"\".join, '__call__'), hasattr(test, '__call__'), type(add), type(\"\".join), type(test),dir(test)"
   ]
  },
  {
   "cell_type": "markdown",
   "metadata": {},
   "source": [
    "# docstring怎么用"
   ]
  },
  {
   "cell_type": "code",
   "execution_count": 113,
   "metadata": {},
   "outputs": [
    {
     "name": "stdout",
     "output_type": "stream",
     "text": [
      "str(object='') -> str\n",
      "str(bytes_or_buffer[, encoding[, errors]]) -> str\n",
      "\n",
      "Create a new string object from the given object. If encoding or\n",
      "errors is specified, then the object must expose a data buffer\n",
      "that will be decoded using the given encoding and error handler.\n",
      "Otherwise, returns the result of object.__str__() (if defined)\n",
      "or repr(object).\n",
      "encoding defaults to sys.getdefaultencoding().\n",
      "errors defaults to 'strict'.\n"
     ]
    }
   ],
   "source": [
    "print(str.__doc__)"
   ]
  },
  {
   "cell_type": "code",
   "execution_count": null,
   "metadata": {
    "collapsed": true
   },
   "outputs": [],
   "source": []
  }
 ],
 "metadata": {
  "kernelspec": {
   "display_name": "Python 3",
   "language": "python",
   "name": "python3"
  },
  "language_info": {
   "codemirror_mode": {
    "name": "ipython",
    "version": 3
   },
   "file_extension": ".py",
   "mimetype": "text/x-python",
   "name": "python",
   "nbconvert_exporter": "python",
   "pygments_lexer": "ipython3",
   "version": "3.6.2"
  }
 },
 "nbformat": 4,
 "nbformat_minor": 2
}
