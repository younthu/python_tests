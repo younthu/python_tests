{
 "cells": [
  {
   "cell_type": "code",
   "execution_count": 1,
   "metadata": {
    "scrolled": true
   },
   "outputs": [
    {
     "name": "stdout",
     "output_type": "stream",
     "text": [
      "CPU times: user 29.2 s, sys: 689 ms, total: 29.9 s\n",
      "Wall time: 1min 10s\n"
     ]
    }
   ],
   "source": [
    "%%time\n",
    "\n",
    "import pandas as pd\n",
    "from datetime import datetime\n",
    "import calendar\n",
    "\n",
    "xls = pd.read_excel(\"./A股全部市值.xlsx\")"
   ]
  },
  {
   "cell_type": "code",
   "execution_count": 70,
   "metadata": {
    "scrolled": true
   },
   "outputs": [
    {
     "data": {
      "text/html": [
       "<div>\n",
       "<style scoped>\n",
       "    .dataframe tbody tr th:only-of-type {\n",
       "        vertical-align: middle;\n",
       "    }\n",
       "\n",
       "    .dataframe tbody tr th {\n",
       "        vertical-align: top;\n",
       "    }\n",
       "\n",
       "    .dataframe thead th {\n",
       "        text-align: right;\n",
       "    }\n",
       "</style>\n",
       "<table border=\"1\" class=\"dataframe\">\n",
       "  <thead>\n",
       "    <tr style=\"text-align: right;\">\n",
       "      <th></th>\n",
       "      <th>代码</th>\n",
       "      <th>公司</th>\n",
       "      <th>行业</th>\n",
       "      <th>行业.1</th>\n",
       "      <th>成立年</th>\n",
       "      <th>上市年</th>\n",
       "      <th>上市后市值涨幅</th>\n",
       "      <th>2020-02-15 00:00:00</th>\n",
       "      <th>IPO</th>\n",
       "      <th>2019-12-31 00:00:00</th>\n",
       "      <th>...</th>\n",
       "      <th>1990-10-31 00:00:00</th>\n",
       "      <th>1990-09-30 00:00:00</th>\n",
       "      <th>1990-08-31 00:00:00</th>\n",
       "      <th>1990-07-31 00:00:00</th>\n",
       "      <th>1990-06-30 00:00:00</th>\n",
       "      <th>1990-05-31 00:00:00</th>\n",
       "      <th>1990-04-30 00:00:00</th>\n",
       "      <th>1990-03-31 00:00:00</th>\n",
       "      <th>1990-02-28 00:00:00</th>\n",
       "      <th>1990-01-31 00:00:00</th>\n",
       "    </tr>\n",
       "  </thead>\n",
       "  <tbody>\n",
       "    <tr>\n",
       "      <td>0</td>\n",
       "      <td>601398.SH</td>\n",
       "      <td>工商银行</td>\n",
       "      <td>银行</td>\n",
       "      <td>金融</td>\n",
       "      <td>1985</td>\n",
       "      <td>2006</td>\n",
       "      <td>1.735062</td>\n",
       "      <td>19041.238361</td>\n",
       "      <td>10974.385027</td>\n",
       "      <td>20518.100251</td>\n",
       "      <td>...</td>\n",
       "      <td>0</td>\n",
       "      <td>0</td>\n",
       "      <td>0</td>\n",
       "      <td>0</td>\n",
       "      <td>0</td>\n",
       "      <td>0</td>\n",
       "      <td>0</td>\n",
       "      <td>0</td>\n",
       "      <td>0</td>\n",
       "      <td>0</td>\n",
       "    </tr>\n",
       "    <tr>\n",
       "      <td>1</td>\n",
       "      <td>601318.SH</td>\n",
       "      <td>中国平安</td>\n",
       "      <td>保险Ⅱ</td>\n",
       "      <td>金融</td>\n",
       "      <td>1988</td>\n",
       "      <td>2007</td>\n",
       "      <td>4.805913</td>\n",
       "      <td>14946.037845</td>\n",
       "      <td>3109.926759</td>\n",
       "      <td>15401.945681</td>\n",
       "      <td>...</td>\n",
       "      <td>0</td>\n",
       "      <td>0</td>\n",
       "      <td>0</td>\n",
       "      <td>0</td>\n",
       "      <td>0</td>\n",
       "      <td>0</td>\n",
       "      <td>0</td>\n",
       "      <td>0</td>\n",
       "      <td>0</td>\n",
       "      <td>0</td>\n",
       "    </tr>\n",
       "    <tr>\n",
       "      <td>2</td>\n",
       "      <td>601939.SH</td>\n",
       "      <td>建设银行</td>\n",
       "      <td>银行</td>\n",
       "      <td>金融</td>\n",
       "      <td>2004</td>\n",
       "      <td>2007</td>\n",
       "      <td>0.899626</td>\n",
       "      <td>14556.930232</td>\n",
       "      <td>16181.097042</td>\n",
       "      <td>15187.418549</td>\n",
       "      <td>...</td>\n",
       "      <td>0</td>\n",
       "      <td>0</td>\n",
       "      <td>0</td>\n",
       "      <td>0</td>\n",
       "      <td>0</td>\n",
       "      <td>0</td>\n",
       "      <td>0</td>\n",
       "      <td>0</td>\n",
       "      <td>0</td>\n",
       "      <td>0</td>\n",
       "    </tr>\n",
       "    <tr>\n",
       "      <td>4</td>\n",
       "      <td>601288.SH</td>\n",
       "      <td>农业银行</td>\n",
       "      <td>银行</td>\n",
       "      <td>金融</td>\n",
       "      <td>1986</td>\n",
       "      <td>2010</td>\n",
       "      <td>1.492092</td>\n",
       "      <td>11773.131655</td>\n",
       "      <td>7890.352938</td>\n",
       "      <td>12724.569525</td>\n",
       "      <td>...</td>\n",
       "      <td>0</td>\n",
       "      <td>0</td>\n",
       "      <td>0</td>\n",
       "      <td>0</td>\n",
       "      <td>0</td>\n",
       "      <td>0</td>\n",
       "      <td>0</td>\n",
       "      <td>0</td>\n",
       "      <td>0</td>\n",
       "      <td>0</td>\n",
       "    </tr>\n",
       "    <tr>\n",
       "      <td>5</td>\n",
       "      <td>601988.SH</td>\n",
       "      <td>中国银行</td>\n",
       "      <td>银行</td>\n",
       "      <td>金融</td>\n",
       "      <td>1983</td>\n",
       "      <td>2006</td>\n",
       "      <td>1.032542</td>\n",
       "      <td>9826.137335</td>\n",
       "      <td>9516.453422</td>\n",
       "      <td>10271.656017</td>\n",
       "      <td>...</td>\n",
       "      <td>0</td>\n",
       "      <td>0</td>\n",
       "      <td>0</td>\n",
       "      <td>0</td>\n",
       "      <td>0</td>\n",
       "      <td>0</td>\n",
       "      <td>0</td>\n",
       "      <td>0</td>\n",
       "      <td>0</td>\n",
       "      <td>0</td>\n",
       "    </tr>\n",
       "    <tr>\n",
       "      <td>7</td>\n",
       "      <td>600036.SH</td>\n",
       "      <td>招商银行</td>\n",
       "      <td>银行</td>\n",
       "      <td>金融</td>\n",
       "      <td>1987</td>\n",
       "      <td>2002</td>\n",
       "      <td>14.693989</td>\n",
       "      <td>8939.041374</td>\n",
       "      <td>608.346802</td>\n",
       "      <td>9399.388516</td>\n",
       "      <td>...</td>\n",
       "      <td>0</td>\n",
       "      <td>0</td>\n",
       "      <td>0</td>\n",
       "      <td>0</td>\n",
       "      <td>0</td>\n",
       "      <td>0</td>\n",
       "      <td>0</td>\n",
       "      <td>0</td>\n",
       "      <td>0</td>\n",
       "      <td>0</td>\n",
       "    </tr>\n",
       "    <tr>\n",
       "      <td>8</td>\n",
       "      <td>601628.SH</td>\n",
       "      <td>中国人寿</td>\n",
       "      <td>保险Ⅱ</td>\n",
       "      <td>金融</td>\n",
       "      <td>2003</td>\n",
       "      <td>2007</td>\n",
       "      <td>0.764643</td>\n",
       "      <td>7657.451853</td>\n",
       "      <td>10014.417490</td>\n",
       "      <td>8704.279379</td>\n",
       "      <td>...</td>\n",
       "      <td>0</td>\n",
       "      <td>0</td>\n",
       "      <td>0</td>\n",
       "      <td>0</td>\n",
       "      <td>0</td>\n",
       "      <td>0</td>\n",
       "      <td>0</td>\n",
       "      <td>0</td>\n",
       "      <td>0</td>\n",
       "      <td>0</td>\n",
       "    </tr>\n",
       "    <tr>\n",
       "      <td>11</td>\n",
       "      <td>601658.SH</td>\n",
       "      <td>邮储银行</td>\n",
       "      <td>银行</td>\n",
       "      <td>金融</td>\n",
       "      <td>2007</td>\n",
       "      <td>2019</td>\n",
       "      <td>0.984760</td>\n",
       "      <td>4624.282478</td>\n",
       "      <td>4695.846162</td>\n",
       "      <td>4876.070494</td>\n",
       "      <td>...</td>\n",
       "      <td>0</td>\n",
       "      <td>0</td>\n",
       "      <td>0</td>\n",
       "      <td>0</td>\n",
       "      <td>0</td>\n",
       "      <td>0</td>\n",
       "      <td>0</td>\n",
       "      <td>0</td>\n",
       "      <td>0</td>\n",
       "      <td>0</td>\n",
       "    </tr>\n",
       "    <tr>\n",
       "      <td>18</td>\n",
       "      <td>601166.SH</td>\n",
       "      <td>兴业银行</td>\n",
       "      <td>银行</td>\n",
       "      <td>金融</td>\n",
       "      <td>1988</td>\n",
       "      <td>2007</td>\n",
       "      <td>3.313755</td>\n",
       "      <td>3674.954344</td>\n",
       "      <td>1109.000000</td>\n",
       "      <td>4113.289769</td>\n",
       "      <td>...</td>\n",
       "      <td>0</td>\n",
       "      <td>0</td>\n",
       "      <td>0</td>\n",
       "      <td>0</td>\n",
       "      <td>0</td>\n",
       "      <td>0</td>\n",
       "      <td>0</td>\n",
       "      <td>0</td>\n",
       "      <td>0</td>\n",
       "      <td>0</td>\n",
       "    </tr>\n",
       "    <tr>\n",
       "      <td>17</td>\n",
       "      <td>601328.SH</td>\n",
       "      <td>交通银行</td>\n",
       "      <td>银行</td>\n",
       "      <td>金融</td>\n",
       "      <td>1987</td>\n",
       "      <td>2007</td>\n",
       "      <td>0.675270</td>\n",
       "      <td>3678.193042</td>\n",
       "      <td>5446.998485</td>\n",
       "      <td>3947.329761</td>\n",
       "      <td>...</td>\n",
       "      <td>0</td>\n",
       "      <td>0</td>\n",
       "      <td>0</td>\n",
       "      <td>0</td>\n",
       "      <td>0</td>\n",
       "      <td>0</td>\n",
       "      <td>0</td>\n",
       "      <td>0</td>\n",
       "      <td>0</td>\n",
       "      <td>0</td>\n",
       "    </tr>\n",
       "  </tbody>\n",
       "</table>\n",
       "<p>10 rows × 369 columns</p>\n",
       "</div>"
      ],
      "text/plain": [
       "           代码    公司   行业 行业.1   成立年   上市年    上市后市值涨幅  2020-02-15 00:00:00  \\\n",
       "0   601398.SH  工商银行   银行   金融  1985  2006   1.735062         19041.238361   \n",
       "1   601318.SH  中国平安  保险Ⅱ   金融  1988  2007   4.805913         14946.037845   \n",
       "2   601939.SH  建设银行   银行   金融  2004  2007   0.899626         14556.930232   \n",
       "4   601288.SH  农业银行   银行   金融  1986  2010   1.492092         11773.131655   \n",
       "5   601988.SH  中国银行   银行   金融  1983  2006   1.032542          9826.137335   \n",
       "7   600036.SH  招商银行   银行   金融  1987  2002  14.693989          8939.041374   \n",
       "8   601628.SH  中国人寿  保险Ⅱ   金融  2003  2007   0.764643          7657.451853   \n",
       "11  601658.SH  邮储银行   银行   金融  2007  2019   0.984760          4624.282478   \n",
       "18  601166.SH  兴业银行   银行   金融  1988  2007   3.313755          3674.954344   \n",
       "17  601328.SH  交通银行   银行   金融  1987  2007   0.675270          3678.193042   \n",
       "\n",
       "             IPO  2019-12-31 00:00:00  ...  1990-10-31 00:00:00  \\\n",
       "0   10974.385027         20518.100251  ...                    0   \n",
       "1    3109.926759         15401.945681  ...                    0   \n",
       "2   16181.097042         15187.418549  ...                    0   \n",
       "4    7890.352938         12724.569525  ...                    0   \n",
       "5    9516.453422         10271.656017  ...                    0   \n",
       "7     608.346802          9399.388516  ...                    0   \n",
       "8   10014.417490          8704.279379  ...                    0   \n",
       "11   4695.846162          4876.070494  ...                    0   \n",
       "18   1109.000000          4113.289769  ...                    0   \n",
       "17   5446.998485          3947.329761  ...                    0   \n",
       "\n",
       "    1990-09-30 00:00:00  1990-08-31 00:00:00  1990-07-31 00:00:00  \\\n",
       "0                     0                    0                    0   \n",
       "1                     0                    0                    0   \n",
       "2                     0                    0                    0   \n",
       "4                     0                    0                    0   \n",
       "5                     0                    0                    0   \n",
       "7                     0                    0                    0   \n",
       "8                     0                    0                    0   \n",
       "11                    0                    0                    0   \n",
       "18                    0                    0                    0   \n",
       "17                    0                    0                    0   \n",
       "\n",
       "    1990-06-30 00:00:00  1990-05-31 00:00:00  1990-04-30 00:00:00  \\\n",
       "0                     0                    0                    0   \n",
       "1                     0                    0                    0   \n",
       "2                     0                    0                    0   \n",
       "4                     0                    0                    0   \n",
       "5                     0                    0                    0   \n",
       "7                     0                    0                    0   \n",
       "8                     0                    0                    0   \n",
       "11                    0                    0                    0   \n",
       "18                    0                    0                    0   \n",
       "17                    0                    0                    0   \n",
       "\n",
       "    1990-03-31 00:00:00  1990-02-28 00:00:00  1990-01-31 00:00:00  \n",
       "0                     0                    0                    0  \n",
       "1                     0                    0                    0  \n",
       "2                     0                    0                    0  \n",
       "4                     0                    0                    0  \n",
       "5                     0                    0                    0  \n",
       "7                     0                    0                    0  \n",
       "8                     0                    0                    0  \n",
       "11                    0                    0                    0  \n",
       "18                    0                    0                    0  \n",
       "17                    0                    0                    0  \n",
       "\n",
       "[10 rows x 369 columns]"
      ]
     },
     "execution_count": 70,
     "metadata": {},
     "output_type": "execute_result"
    }
   ],
   "source": [
    "xls.loc[xls[\"行业.1\"]==\"金融\"].nlargest(10,datetime(2019,12,31))"
   ]
  },
  {
   "cell_type": "code",
   "execution_count": 3,
   "metadata": {
    "scrolled": false
   },
   "outputs": [],
   "source": [
    "from datetime import datetime\n",
    "def get_topn_of_year(df, n, year, month, industry):\n",
    "    column_index = datetime(year, month, calendar.monthrange(year, month)[1])\n",
    "    return df[df[\"行业.1\"] == industry][[\"行业\", \"行业.1\", column_index]].nlargest(n, column_index)\n",
    "\n",
    "def get_values_of_year(df, n, year, month):\n",
    "    labels = ['金融', '农业食品', '能源资源', '医疗健康', '基础设施', '消费服务', '信息技术', '制造业',\n",
    "       '房地产建筑', '化工材料', '物流', '文化教育']\n",
    "    values = list(map(lambda l: int(get_topn_of_year(df, n, year, month, l).iloc[:, 2].sum()), labels))\n",
    "    return values\n",
    "\n",
    "def autolabel(rects):\n",
    "    \"\"\"Attach a text label above each bar in *rects*, displaying its height.\"\"\"\n",
    "    for rect in rects:\n",
    "        height = rect.get_height()\n",
    "        ax.annotate('{}'.format(height),\n",
    "                    xy=(rect.get_x() + rect.get_width() / 2, height),\n",
    "                    xytext=(0, 3),  # 3 points vertical offset\n",
    "                    textcoords=\"offset points\",\n",
    "                    ha='center', va='bottom',\n",
    "                   size=15)"
   ]
  },
  {
   "cell_type": "code",
   "execution_count": 191,
   "metadata": {},
   "outputs": [
    {
     "data": {
      "text/plain": [
       "[0, 0, 0, 0, 0, 0, 0, 0, 0, 0, 0, 0]"
      ]
     },
     "execution_count": 191,
     "metadata": {},
     "output_type": "execute_result"
    }
   ],
   "source": [
    "\n",
    "labels = ['金融', '农业食品', '能源资源', '医疗健康', '基础设施', '消费服务', '信息技术', '制造业',\n",
    "       '房地产建筑', '化工材料', '物流', '文化教育']\n",
    "colors = []\n",
    "# for l in labels:\n",
    "#     print(l)\n",
    "#     print(get_topn_of_year(xls, 20, 2019, 12, l).iloc[:, 2].sum())\n",
    "values = list(map(lambda l: int(get_topn_of_year(xls, 22, 2019, 12, l).iloc[:, 2].sum()), labels))\n",
    "# print(values)\n",
    "get_values_of_year(xls, 20,1990,1)"
   ]
  },
  {
   "cell_type": "code",
   "execution_count": null,
   "metadata": {},
   "outputs": [],
   "source": [
    "%%time\n",
    "\n",
    "import matplotlib.pyplot as plt\n",
    "from matplotlib import font_manager\n",
    "import matplotlib.animation as animation\n",
    "from dateutil.relativedelta import relativedelta\n",
    "\n",
    "fname = ['Songti SC'][0]\n",
    "plt.rcParams['font.family']=[fname]\n",
    "plt.rcParams['axes.unicode_minus']=False\n",
    "\n",
    "fontP = font_manager.FontProperties()\n",
    "fontP.set_family(fname)\n",
    "fontP.set_size(18)\n",
    "\n",
    "fontTitle = font_manager.FontProperties()\n",
    "fontTitle.set_family(fname)\n",
    "fontTitle.set_size(18)\n",
    "\n",
    "fig = plt.figure(figsize=(20, 12))\n",
    "ax  = fig.add_subplot(111)\n",
    "\n",
    "def draw(index):\n",
    "    plt.cla()\n",
    "    \n",
    "    date = datetime(1990,1,1)\n",
    "    date = date + relativedelta(months=index)\n",
    "    ax.set_ylabel(u'投资额', fontproperties=fontP)\n",
    "    ax.set_title(u'{}年各行业数据'.format(date.year), fontproperties=fontTitle)\n",
    "    \n",
    "    # 第3列为投资额\n",
    "    labels = ['金融', '农业食品', '能源资源', '医疗健康', '基础设施', '消费服务', '信息技术', '制造业', '房地产建筑', '化工材料', '物流', '文化教育']\n",
    "#     colors = ['red', 'blue', 'pink', 'yellow', 'brown', 'purple', 'orange', 'cyan', 'grenn', 'orange', 'cyan', 'grenn']\n",
    "    colors = ['teal','red','blue','gold','green','cyan','pink','purple','orange', 'magenta', 'violet', 'lime', 'olive', 'salmon','goldenrod','fuchsia', 'orchid', 'plum']\n",
    "    \n",
    "    print(date)\n",
    "    values = get_values_of_year(xls, 20, date.year, date.month)\n",
    "    print(values)\n",
    "    rects = plt.bar(labels, height = values, width=0.4, align='center', yerr=0.000001, color=colors)\n",
    "    autolabel(rects)\n",
    "    plt.ylim(bottom=0)\n",
    "#     ax.set_xticklabels(labels)\n",
    "    return rects\n",
    "\n",
    "ani = animation.FuncAnimation(fig, draw, range(360), interval=300)\n",
    "\n",
    "# ani.save('history.gif', fps=8, writer='imagemagick')\n",
    "ani.save('history.mp4', fps=8, writer='imagemagick')\n",
    "# FFwriter = animation.FFMpegWriter(fps=8, codec=\"libx264\")     \n",
    "# ani.save('basic_animation1.mp4', writer = FFwriter )"
   ]
  },
  {
   "cell_type": "markdown",
   "metadata": {
    "scrolled": true
   },
   "source": [
    "len(xls[\"行业.1\"].unique())"
   ]
  },
  {
   "cell_type": "code",
   "execution_count": 58,
   "metadata": {
    "scrolled": true
   },
   "outputs": [
    {
     "data": {
      "text/html": [
       "<div>\n",
       "<style scoped>\n",
       "    .dataframe tbody tr th:only-of-type {\n",
       "        vertical-align: middle;\n",
       "    }\n",
       "\n",
       "    .dataframe tbody tr th {\n",
       "        vertical-align: top;\n",
       "    }\n",
       "\n",
       "    .dataframe thead th {\n",
       "        text-align: right;\n",
       "    }\n",
       "</style>\n",
       "<table border=\"1\" class=\"dataframe\">\n",
       "  <thead>\n",
       "    <tr style=\"text-align: right;\">\n",
       "      <th></th>\n",
       "      <th>上市年</th>\n",
       "      <th>上市后市值涨幅</th>\n",
       "      <th>2019-12-31 00:00:00</th>\n",
       "    </tr>\n",
       "  </thead>\n",
       "  <tbody>\n",
       "    <tr>\n",
       "      <td>count</td>\n",
       "      <td>3760.000000</td>\n",
       "      <td>3760.000000</td>\n",
       "      <td>3760.000000</td>\n",
       "    </tr>\n",
       "    <tr>\n",
       "      <td>mean</td>\n",
       "      <td>2008.125532</td>\n",
       "      <td>5.150307</td>\n",
       "      <td>171.025561</td>\n",
       "    </tr>\n",
       "    <tr>\n",
       "      <td>std</td>\n",
       "      <td>8.177317</td>\n",
       "      <td>26.745439</td>\n",
       "      <td>744.716129</td>\n",
       "    </tr>\n",
       "    <tr>\n",
       "      <td>min</td>\n",
       "      <td>1990.000000</td>\n",
       "      <td>0.000000</td>\n",
       "      <td>2.648646</td>\n",
       "    </tr>\n",
       "    <tr>\n",
       "      <td>25%</td>\n",
       "      <td>2000.000000</td>\n",
       "      <td>1.022804</td>\n",
       "      <td>29.975945</td>\n",
       "    </tr>\n",
       "    <tr>\n",
       "      <td>50%</td>\n",
       "      <td>2010.000000</td>\n",
       "      <td>1.755812</td>\n",
       "      <td>50.436484</td>\n",
       "    </tr>\n",
       "    <tr>\n",
       "      <td>75%</td>\n",
       "      <td>2016.000000</td>\n",
       "      <td>3.727025</td>\n",
       "      <td>109.147355</td>\n",
       "    </tr>\n",
       "    <tr>\n",
       "      <td>max</td>\n",
       "      <td>2019.000000</td>\n",
       "      <td>1261.998825</td>\n",
       "      <td>20518.100251</td>\n",
       "    </tr>\n",
       "  </tbody>\n",
       "</table>\n",
       "</div>"
      ],
      "text/plain": [
       "               上市年      上市后市值涨幅  2019-12-31 00:00:00\n",
       "count  3760.000000  3760.000000          3760.000000\n",
       "mean   2008.125532     5.150307           171.025561\n",
       "std       8.177317    26.745439           744.716129\n",
       "min    1990.000000     0.000000             2.648646\n",
       "25%    2000.000000     1.022804            29.975945\n",
       "50%    2010.000000     1.755812            50.436484\n",
       "75%    2016.000000     3.727025           109.147355\n",
       "max    2019.000000  1261.998825         20518.100251"
      ]
     },
     "execution_count": 58,
     "metadata": {},
     "output_type": "execute_result"
    }
   ],
   "source": [
    "import datetime\n",
    "d = datetime.datetime(2019,12,31)\n",
    "xls[[\"上市年\",\"上市后市值涨幅\", d]].describe()\n",
    "\n"
   ]
  },
  {
   "cell_type": "code",
   "execution_count": 91,
   "metadata": {
    "scrolled": true
   },
   "outputs": [
    {
     "data": {
      "text/plain": [
       "108774.90028737039"
      ]
     },
     "execution_count": 91,
     "metadata": {},
     "output_type": "execute_result"
    }
   ],
   "source": [
    "a = get_topn_of_year(xls,11,2019,12, \"金融\")\n",
    "a\n",
    "a.iloc[:,2].sum()"
   ]
  },
  {
   "cell_type": "code",
   "execution_count": 41,
   "metadata": {
    "scrolled": true
   },
   "outputs": [
    {
     "data": {
      "text/plain": [
       "datetime.datetime(2019, 12, 31, 0, 0)"
      ]
     },
     "execution_count": 41,
     "metadata": {},
     "output_type": "execute_result"
    }
   ],
   "source": [
    "d = datetime.datetime(2019,12,31)\n",
    "d"
   ]
  },
  {
   "cell_type": "code",
   "execution_count": 42,
   "metadata": {
    "scrolled": true
   },
   "outputs": [
    {
     "data": {
      "text/plain": [
       "'2019-12-31 00:00:00'"
      ]
     },
     "execution_count": 42,
     "metadata": {},
     "output_type": "execute_result"
    }
   ],
   "source": [
    "str(d)"
   ]
  },
  {
   "cell_type": "code",
   "execution_count": 43,
   "metadata": {
    "scrolled": true
   },
   "outputs": [
    {
     "ename": "ValueError",
     "evalue": "year 0 is out of range",
     "output_type": "error",
     "traceback": [
      "\u001b[0;31m---------------------------------------------------------------------------\u001b[0m",
      "\u001b[0;31mValueError\u001b[0m                                Traceback (most recent call last)",
      "\u001b[0;32m<ipython-input-43-be5edea8d42b>\u001b[0m in \u001b[0;36m<module>\u001b[0;34m\u001b[0m\n\u001b[0;32m----> 1\u001b[0;31m \u001b[0md\u001b[0m \u001b[0;34m-\u001b[0m \u001b[0mdatetime\u001b[0m\u001b[0;34m.\u001b[0m\u001b[0mdatetime\u001b[0m\u001b[0;34m(\u001b[0m\u001b[0;36m0\u001b[0m\u001b[0;34m,\u001b[0m\u001b[0;36m0\u001b[0m\u001b[0;34m,\u001b[0m\u001b[0;36m1\u001b[0m\u001b[0;34m,\u001b[0m\u001b[0;34m)\u001b[0m\u001b[0;34m\u001b[0m\u001b[0;34m\u001b[0m\u001b[0m\n\u001b[0m",
      "\u001b[0;31mValueError\u001b[0m: year 0 is out of range"
     ]
    }
   ],
   "source": [
    "d - datetime.datetime(0,0,1,)"
   ]
  },
  {
   "cell_type": "code",
   "execution_count": 44,
   "metadata": {
    "scrolled": true
   },
   "outputs": [
    {
     "ename": "SyntaxError",
     "evalue": "invalid syntax (<ipython-input-44-7e21033584ae>, line 1)",
     "output_type": "error",
     "traceback": [
      "\u001b[0;36m  File \u001b[0;32m\"<ipython-input-44-7e21033584ae>\"\u001b[0;36m, line \u001b[0;32m1\u001b[0m\n\u001b[0;31m    import datetime from datetime\u001b[0m\n\u001b[0m                       ^\u001b[0m\n\u001b[0;31mSyntaxError\u001b[0m\u001b[0;31m:\u001b[0m invalid syntax\n"
     ]
    }
   ],
   "source": []
  },
  {
   "cell_type": "code",
   "execution_count": 163,
   "metadata": {
    "scrolled": true
   },
   "outputs": [
    {
     "ename": "TypeError",
     "evalue": "'months' is an invalid keyword argument for __new__()",
     "output_type": "error",
     "traceback": [
      "\u001b[0;31m---------------------------------------------------------------------------\u001b[0m",
      "\u001b[0;31mTypeError\u001b[0m                                 Traceback (most recent call last)",
      "\u001b[0;32m<ipython-input-163-f04b6e87b90a>\u001b[0m in \u001b[0;36m<module>\u001b[0;34m\u001b[0m\n\u001b[1;32m      2\u001b[0m \u001b[0;32mfrom\u001b[0m \u001b[0mdatetime\u001b[0m \u001b[0;32mimport\u001b[0m \u001b[0mtimedelta\u001b[0m\u001b[0;34m\u001b[0m\u001b[0;34m\u001b[0m\u001b[0m\n\u001b[1;32m      3\u001b[0m \u001b[0mdt2\u001b[0m \u001b[0;34m=\u001b[0m \u001b[0mdatetime\u001b[0m\u001b[0;34m(\u001b[0m\u001b[0;36m2020\u001b[0m\u001b[0;34m,\u001b[0m\u001b[0;36m2\u001b[0m\u001b[0;34m,\u001b[0m \u001b[0mcalendar\u001b[0m\u001b[0;34m.\u001b[0m\u001b[0mmonthrange\u001b[0m\u001b[0;34m(\u001b[0m\u001b[0;36m2020\u001b[0m\u001b[0;34m,\u001b[0m\u001b[0;36m2\u001b[0m\u001b[0;34m)\u001b[0m\u001b[0;34m[\u001b[0m\u001b[0;36m1\u001b[0m\u001b[0;34m]\u001b[0m\u001b[0;34m)\u001b[0m\u001b[0;34m\u001b[0m\u001b[0;34m\u001b[0m\u001b[0m\n\u001b[0;32m----> 4\u001b[0;31m \u001b[0mdt3\u001b[0m \u001b[0;34m=\u001b[0m \u001b[0mdt2\u001b[0m \u001b[0;34m+\u001b[0m \u001b[0mtimedelta\u001b[0m\u001b[0;34m(\u001b[0m\u001b[0mmonths\u001b[0m\u001b[0;34m=\u001b[0m\u001b[0;36m12\u001b[0m\u001b[0;34m)\u001b[0m\u001b[0;34m\u001b[0m\u001b[0;34m\u001b[0m\u001b[0m\n\u001b[0m\u001b[1;32m      5\u001b[0m \u001b[0mcalendar\u001b[0m\u001b[0;34m.\u001b[0m\u001b[0mmonthrange\u001b[0m\u001b[0;34m(\u001b[0m\u001b[0;36m2020\u001b[0m\u001b[0;34m,\u001b[0m\u001b[0;36m2\u001b[0m\u001b[0;34m)\u001b[0m\u001b[0;34m[\u001b[0m\u001b[0;36m1\u001b[0m\u001b[0;34m]\u001b[0m\u001b[0;34m\u001b[0m\u001b[0;34m\u001b[0m\u001b[0m\n",
      "\u001b[0;31mTypeError\u001b[0m: 'months' is an invalid keyword argument for __new__()"
     ]
    }
   ],
   "source": [
    "import calendar\n",
    "from datetime import timedelta\n",
    "dt2 = datetime(2020,2, calendar.monthrange(2020,2)[1])\n",
    "dt3 = dt2 + timedelta(months=12)\n",
    "calendar.monthrange(2020,2)[1]"
   ]
  },
  {
   "cell_type": "code",
   "execution_count": 164,
   "metadata": {
    "scrolled": true
   },
   "outputs": [],
   "source": [
    "import dateutil"
   ]
  },
  {
   "cell_type": "code",
   "execution_count": 165,
   "metadata": {},
   "outputs": [],
   "source": [
    "from dateutil.relativedelta import relativedelta"
   ]
  },
  {
   "cell_type": "code",
   "execution_count": 166,
   "metadata": {},
   "outputs": [],
   "source": [
    "dt1 = datetime(2020,2,29)"
   ]
  },
  {
   "cell_type": "code",
   "execution_count": 169,
   "metadata": {},
   "outputs": [],
   "source": [
    "dt2 = dt1 + relativedelta(months=12)\n",
    "dt3 = dt2 + relativedelta(months=12)"
   ]
  },
  {
   "cell_type": "code",
   "execution_count": 172,
   "metadata": {},
   "outputs": [
    {
     "data": {
      "text/plain": [
       "(datetime.datetime(2021, 2, 28, 0, 0),\n",
       " datetime.datetime(2022, 2, 28, 0, 0),\n",
       " 2022,\n",
       " 2)"
      ]
     },
     "execution_count": 172,
     "metadata": {},
     "output_type": "execute_result"
    }
   ],
   "source": [
    "dt2,dt3,dt3.year,dt3.month"
   ]
  },
  {
   "cell_type": "code",
   "execution_count": null,
   "metadata": {},
   "outputs": [],
   "source": []
  }
 ],
 "metadata": {
  "kernelspec": {
   "display_name": "Python 3",
   "language": "python",
   "name": "python3"
  },
  "language_info": {
   "codemirror_mode": {
    "name": "ipython",
    "version": 3
   },
   "file_extension": ".py",
   "mimetype": "text/x-python",
   "name": "python",
   "nbconvert_exporter": "python",
   "pygments_lexer": "ipython3",
   "version": "3.7.4"
  }
 },
 "nbformat": 4,
 "nbformat_minor": 2
}
