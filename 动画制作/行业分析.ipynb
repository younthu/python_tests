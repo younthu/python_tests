{
 "cells": [
  {
   "cell_type": "code",
   "execution_count": 1,
   "metadata": {
    "scrolled": true
   },
   "outputs": [
    {
     "name": "stdout",
     "output_type": "stream",
     "text": [
      "CPU times: user 31.9 s, sys: 782 ms, total: 32.7 s\n",
      "Wall time: 34.1 s\n"
     ]
    }
   ],
   "source": [
    "%%time\n",
    "\n",
    "import pandas as pd\n",
    "from datetime import datetime\n",
    "import calendar\n",
    "\n",
    "xls = pd.read_excel(\"./A股全部市值.xlsx\")"
   ]
  },
  {
   "cell_type": "code",
   "execution_count": null,
   "metadata": {},
   "outputs": [],
   "source": [
    "xls.loc[xls[\"行业.1\"]==\"金融\"].nlargest(10,datetime(2019,12,31))\n",
    "# xls.loc[xls[\"行业.1\"]==\"金融\"].sum()"
   ]
  },
  {
   "cell_type": "code",
   "execution_count": 23,
   "metadata": {
    "scrolled": false
   },
   "outputs": [],
   "source": [
    "from datetime import datetime\n",
    "from functools import lru_cache\n",
    "import numpy as np\n",
    "\n",
    "@lru_cache(maxsize=None)\n",
    "def get_topn_of_year( n, year, month, industry):\n",
    "    df = xls\n",
    "    column_index = datetime(year, month, calendar.monthrange(year, month)[1])\n",
    "#     return df[df[\"行业.1\"] == industry][[\"行业\", \"行业.1\", column_index]].nlargest(n, column_index)\n",
    "    return df[df[\"行业.1\"] == industry][[\"行业\", \"行业.1\", column_index]]\n",
    "\n",
    "@lru_cache(maxsize=None)\n",
    "def get_values_of_year( n, year, month):\n",
    "    df=xls\n",
    "    labels = ['金融', '农业食品', '能源资源', '医疗健康', '基础设施', '消费服务', '信息技术', '制造业',\n",
    "       '房地产建筑', '化工材料', '物流', '文化教育']\n",
    "    values = list(map(lambda l: int(get_topn_of_year( n, year, month, l).iloc[:, 2].sum()), labels))\n",
    "    return values\n",
    "\n",
    "@lru_cache(maxsize=None)\n",
    "def get_values_to_year( n, index):\n",
    "    df = xls\n",
    "    values = np.array(get_values_of_year(n,1990,1))\n",
    "    for i in range(1,index):\n",
    "        \n",
    "        date = datetime(1990,1,1)\n",
    "        date = date + relativedelta(months=i)\n",
    "        values += np.array(get_values_of_year(n, date.year, date.month))\n",
    "    return values\n",
    "def autolabel(rects):\n",
    "    \"\"\"Attach a text label above each bar in *rects*, displaying its height.\"\"\"\n",
    "    for rect in rects:\n",
    "        height = rect.get_height()\n",
    "        ax.annotate('{}'.format(height),\n",
    "                    xy=(rect.get_x() + rect.get_width() / 2, height),\n",
    "                    xytext=(0, 3),  # 3 points vertical offset\n",
    "                    textcoords=\"offset points\",\n",
    "                    ha='center', va='bottom',\n",
    "                   size=15)\n",
    "\n",
    "def autolabelh(rects):\n",
    "    \"\"\"Attach a text label above each bar in *rects*, displaying its height.\"\"\"\n",
    "    for rect in rects:\n",
    "        width = rect.get_width()\n",
    "        ax.annotate(f'{width:,}',\n",
    "                    xy=(width, rect.get_y() + rect.get_height()/2),\n",
    "                    xytext=(3, 0),  # 3 points horizontal offset\n",
    "                    textcoords=\"offset points\",\n",
    "                    ha='left', va='center',\n",
    "                   size=15)"
   ]
  },
  {
   "cell_type": "code",
   "execution_count": 191,
   "metadata": {},
   "outputs": [
    {
     "data": {
      "text/plain": [
       "[0, 0, 0, 0, 0, 0, 0, 0, 0, 0, 0, 0]"
      ]
     },
     "execution_count": 191,
     "metadata": {},
     "output_type": "execute_result"
    }
   ],
   "source": [
    "\n",
    "labels = ['金融', '农业食品', '能源资源', '医疗健康', '基础设施', '消费服务', '信息技术', '制造业',\n",
    "       '房地产建筑', '化工材料', '物流', '文化教育']\n",
    "colors = []\n",
    "# for l in labels:\n",
    "#     print(l)\n",
    "#     print(get_topn_of_year(xls, 20, 2019, 12, l).iloc[:, 2].sum())\n",
    "values = list(map(lambda l: int(get_topn_of_year(xls, 22, 2019, 12, l).iloc[:, 2].sum()), labels))\n",
    "# print(values)\n",
    "get_values_of_year(xls, 20,1990,1)"
   ]
  },
  {
   "cell_type": "code",
   "execution_count": null,
   "metadata": {},
   "outputs": [],
   "source": [
    "%%time\n",
    "\n",
    "import matplotlib.pyplot as plt\n",
    "from matplotlib import font_manager\n",
    "import matplotlib.animation as animation\n",
    "from dateutil.relativedelta import relativedelta\n",
    "\n",
    "fname = ['Songti SC'][0]\n",
    "plt.rcParams['font.family']=[fname]\n",
    "plt.rcParams['axes.unicode_minus']=False\n",
    "\n",
    "fontP = font_manager.FontProperties()\n",
    "fontP.set_family(fname)\n",
    "fontP.set_size(14)\n",
    "\n",
    "fontTitle = font_manager.FontProperties()\n",
    "fontTitle.set_family(fname)\n",
    "fontTitle.set_size(18)\n",
    "\n",
    "fig = plt.figure(figsize=(6, 10))\n",
    "ax  = fig.add_subplot(111,frameon=False)\n",
    "ax.spines[\"top\"].set_visible(False)    #隐藏边框\n",
    "ax.spines[\"right\"].set_visible(False)\n",
    "ax.spines[\"bottom\"].set_visible(False)\n",
    "plt.gcf().subplots_adjust(left=0.15)\n",
    "\n",
    "\n",
    "def draw(index):\n",
    "    plt.cla()\n",
    "#     plt.box(on=None)    # 去除边框\n",
    "    plt.margins(x=0.2)  # 横着右边留白20%\n",
    "    date = datetime(1990,1,1)\n",
    "    date = date + relativedelta(months=index)\n",
    "    ax.set_xlabel(u'估值(亿元人民币)', fontproperties=fontP)\n",
    "    ax.set_title(u'{}年各行业数据'.format(date.year), fontproperties=fontTitle)\n",
    "    \n",
    "    # 第3列为投资额\n",
    "    labels = ['金融', '农业食品', '能源资源', '医疗健康', '基础设施', '消费服务', '信息技术', '制造业', '房地产建筑', '化工材料', '物流', '文化教育']\n",
    "#     colors = ['red', 'blue', 'pink', 'yellow', 'brown', 'purple', 'orange', 'cyan', 'grenn', 'orange', 'cyan', 'grenn']\n",
    "    colors = ['teal','red','blue','gold','green','cyan','pink','purple','orange', 'magenta', 'violet', 'lime', 'olive', 'salmon','goldenrod','fuchsia', 'orchid', 'plum']\n",
    "    \n",
    "#     print(date)\n",
    "    values = get_values_of_year( 20, date.year, date.month)\n",
    "#     print(values)\n",
    "    rects = plt.barh(labels,values, height=0.4, align='center', xerr=0.0001, color=colors)\n",
    "    autolabelh(rects)\n",
    "    plt.xlim(left=0)\n",
    "    if not any(values):\n",
    "        plt.xlim(right=1)\n",
    "#     ax.set_xticklabels(labels)\n",
    "    return rects\n",
    "\n",
    "ani = animation.FuncAnimation(fig, draw, range(360), interval=300)\n",
    "\n",
    "# ani.save('history.gif', fps=8, writer='imagemagick')\n",
    "ani.save('history.mp4', fps=8, writer='imagemagick')\n",
    "# FFwriter = animation.FFMpegWriter(fps=8, codec=\"libx264\")     \n",
    "# ani.save('basic_animation1.mp4', writer = FFwriter )"
   ]
  },
  {
   "cell_type": "markdown",
   "metadata": {
    "scrolled": true
   },
   "source": [
    "len(xls[\"行业.1\"].unique())"
   ]
  },
  {
   "cell_type": "code",
   "execution_count": 58,
   "metadata": {
    "scrolled": true
   },
   "outputs": [
    {
     "data": {
      "text/html": [
       "<div>\n",
       "<style scoped>\n",
       "    .dataframe tbody tr th:only-of-type {\n",
       "        vertical-align: middle;\n",
       "    }\n",
       "\n",
       "    .dataframe tbody tr th {\n",
       "        vertical-align: top;\n",
       "    }\n",
       "\n",
       "    .dataframe thead th {\n",
       "        text-align: right;\n",
       "    }\n",
       "</style>\n",
       "<table border=\"1\" class=\"dataframe\">\n",
       "  <thead>\n",
       "    <tr style=\"text-align: right;\">\n",
       "      <th></th>\n",
       "      <th>上市年</th>\n",
       "      <th>上市后市值涨幅</th>\n",
       "      <th>2019-12-31 00:00:00</th>\n",
       "    </tr>\n",
       "  </thead>\n",
       "  <tbody>\n",
       "    <tr>\n",
       "      <td>count</td>\n",
       "      <td>3760.000000</td>\n",
       "      <td>3760.000000</td>\n",
       "      <td>3760.000000</td>\n",
       "    </tr>\n",
       "    <tr>\n",
       "      <td>mean</td>\n",
       "      <td>2008.125532</td>\n",
       "      <td>5.150307</td>\n",
       "      <td>171.025561</td>\n",
       "    </tr>\n",
       "    <tr>\n",
       "      <td>std</td>\n",
       "      <td>8.177317</td>\n",
       "      <td>26.745439</td>\n",
       "      <td>744.716129</td>\n",
       "    </tr>\n",
       "    <tr>\n",
       "      <td>min</td>\n",
       "      <td>1990.000000</td>\n",
       "      <td>0.000000</td>\n",
       "      <td>2.648646</td>\n",
       "    </tr>\n",
       "    <tr>\n",
       "      <td>25%</td>\n",
       "      <td>2000.000000</td>\n",
       "      <td>1.022804</td>\n",
       "      <td>29.975945</td>\n",
       "    </tr>\n",
       "    <tr>\n",
       "      <td>50%</td>\n",
       "      <td>2010.000000</td>\n",
       "      <td>1.755812</td>\n",
       "      <td>50.436484</td>\n",
       "    </tr>\n",
       "    <tr>\n",
       "      <td>75%</td>\n",
       "      <td>2016.000000</td>\n",
       "      <td>3.727025</td>\n",
       "      <td>109.147355</td>\n",
       "    </tr>\n",
       "    <tr>\n",
       "      <td>max</td>\n",
       "      <td>2019.000000</td>\n",
       "      <td>1261.998825</td>\n",
       "      <td>20518.100251</td>\n",
       "    </tr>\n",
       "  </tbody>\n",
       "</table>\n",
       "</div>"
      ],
      "text/plain": [
       "               上市年      上市后市值涨幅  2019-12-31 00:00:00\n",
       "count  3760.000000  3760.000000          3760.000000\n",
       "mean   2008.125532     5.150307           171.025561\n",
       "std       8.177317    26.745439           744.716129\n",
       "min    1990.000000     0.000000             2.648646\n",
       "25%    2000.000000     1.022804            29.975945\n",
       "50%    2010.000000     1.755812            50.436484\n",
       "75%    2016.000000     3.727025           109.147355\n",
       "max    2019.000000  1261.998825         20518.100251"
      ]
     },
     "execution_count": 58,
     "metadata": {},
     "output_type": "execute_result"
    }
   ],
   "source": [
    "import datetime\n",
    "d = datetime.datetime(2019,12,31)\n",
    "xls[[\"上市年\",\"上市后市值涨幅\", d]].describe()\n",
    "\n"
   ]
  },
  {
   "cell_type": "code",
   "execution_count": 91,
   "metadata": {
    "scrolled": true
   },
   "outputs": [
    {
     "data": {
      "text/plain": [
       "108774.90028737039"
      ]
     },
     "execution_count": 91,
     "metadata": {},
     "output_type": "execute_result"
    }
   ],
   "source": [
    "a = get_topn_of_year(xls,11,2019,12, \"金融\")\n",
    "a\n",
    "a.iloc[:,2].sum()"
   ]
  },
  {
   "cell_type": "code",
   "execution_count": 41,
   "metadata": {
    "scrolled": true
   },
   "outputs": [
    {
     "data": {
      "text/plain": [
       "datetime.datetime(2019, 12, 31, 0, 0)"
      ]
     },
     "execution_count": 41,
     "metadata": {},
     "output_type": "execute_result"
    }
   ],
   "source": [
    "d = datetime.datetime(2019,12,31)\n",
    "d"
   ]
  },
  {
   "cell_type": "code",
   "execution_count": 42,
   "metadata": {
    "scrolled": true
   },
   "outputs": [
    {
     "data": {
      "text/plain": [
       "'2019-12-31 00:00:00'"
      ]
     },
     "execution_count": 42,
     "metadata": {},
     "output_type": "execute_result"
    }
   ],
   "source": [
    "str(d)"
   ]
  },
  {
   "cell_type": "code",
   "execution_count": 43,
   "metadata": {
    "scrolled": true
   },
   "outputs": [
    {
     "ename": "ValueError",
     "evalue": "year 0 is out of range",
     "output_type": "error",
     "traceback": [
      "\u001b[0;31m---------------------------------------------------------------------------\u001b[0m",
      "\u001b[0;31mValueError\u001b[0m                                Traceback (most recent call last)",
      "\u001b[0;32m<ipython-input-43-be5edea8d42b>\u001b[0m in \u001b[0;36m<module>\u001b[0;34m\u001b[0m\n\u001b[0;32m----> 1\u001b[0;31m \u001b[0md\u001b[0m \u001b[0;34m-\u001b[0m \u001b[0mdatetime\u001b[0m\u001b[0;34m.\u001b[0m\u001b[0mdatetime\u001b[0m\u001b[0;34m(\u001b[0m\u001b[0;36m0\u001b[0m\u001b[0;34m,\u001b[0m\u001b[0;36m0\u001b[0m\u001b[0;34m,\u001b[0m\u001b[0;36m1\u001b[0m\u001b[0;34m,\u001b[0m\u001b[0;34m)\u001b[0m\u001b[0;34m\u001b[0m\u001b[0;34m\u001b[0m\u001b[0m\n\u001b[0m",
      "\u001b[0;31mValueError\u001b[0m: year 0 is out of range"
     ]
    }
   ],
   "source": [
    "d - datetime.datetime(0,0,1,)"
   ]
  },
  {
   "cell_type": "code",
   "execution_count": 44,
   "metadata": {
    "scrolled": true
   },
   "outputs": [
    {
     "ename": "SyntaxError",
     "evalue": "invalid syntax (<ipython-input-44-7e21033584ae>, line 1)",
     "output_type": "error",
     "traceback": [
      "\u001b[0;36m  File \u001b[0;32m\"<ipython-input-44-7e21033584ae>\"\u001b[0;36m, line \u001b[0;32m1\u001b[0m\n\u001b[0;31m    import datetime from datetime\u001b[0m\n\u001b[0m                       ^\u001b[0m\n\u001b[0;31mSyntaxError\u001b[0m\u001b[0;31m:\u001b[0m invalid syntax\n"
     ]
    }
   ],
   "source": []
  },
  {
   "cell_type": "code",
   "execution_count": 163,
   "metadata": {
    "scrolled": true
   },
   "outputs": [
    {
     "ename": "TypeError",
     "evalue": "'months' is an invalid keyword argument for __new__()",
     "output_type": "error",
     "traceback": [
      "\u001b[0;31m---------------------------------------------------------------------------\u001b[0m",
      "\u001b[0;31mTypeError\u001b[0m                                 Traceback (most recent call last)",
      "\u001b[0;32m<ipython-input-163-f04b6e87b90a>\u001b[0m in \u001b[0;36m<module>\u001b[0;34m\u001b[0m\n\u001b[1;32m      2\u001b[0m \u001b[0;32mfrom\u001b[0m \u001b[0mdatetime\u001b[0m \u001b[0;32mimport\u001b[0m \u001b[0mtimedelta\u001b[0m\u001b[0;34m\u001b[0m\u001b[0;34m\u001b[0m\u001b[0m\n\u001b[1;32m      3\u001b[0m \u001b[0mdt2\u001b[0m \u001b[0;34m=\u001b[0m \u001b[0mdatetime\u001b[0m\u001b[0;34m(\u001b[0m\u001b[0;36m2020\u001b[0m\u001b[0;34m,\u001b[0m\u001b[0;36m2\u001b[0m\u001b[0;34m,\u001b[0m \u001b[0mcalendar\u001b[0m\u001b[0;34m.\u001b[0m\u001b[0mmonthrange\u001b[0m\u001b[0;34m(\u001b[0m\u001b[0;36m2020\u001b[0m\u001b[0;34m,\u001b[0m\u001b[0;36m2\u001b[0m\u001b[0;34m)\u001b[0m\u001b[0;34m[\u001b[0m\u001b[0;36m1\u001b[0m\u001b[0;34m]\u001b[0m\u001b[0;34m)\u001b[0m\u001b[0;34m\u001b[0m\u001b[0;34m\u001b[0m\u001b[0m\n\u001b[0;32m----> 4\u001b[0;31m \u001b[0mdt3\u001b[0m \u001b[0;34m=\u001b[0m \u001b[0mdt2\u001b[0m \u001b[0;34m+\u001b[0m \u001b[0mtimedelta\u001b[0m\u001b[0;34m(\u001b[0m\u001b[0mmonths\u001b[0m\u001b[0;34m=\u001b[0m\u001b[0;36m12\u001b[0m\u001b[0;34m)\u001b[0m\u001b[0;34m\u001b[0m\u001b[0;34m\u001b[0m\u001b[0m\n\u001b[0m\u001b[1;32m      5\u001b[0m \u001b[0mcalendar\u001b[0m\u001b[0;34m.\u001b[0m\u001b[0mmonthrange\u001b[0m\u001b[0;34m(\u001b[0m\u001b[0;36m2020\u001b[0m\u001b[0;34m,\u001b[0m\u001b[0;36m2\u001b[0m\u001b[0;34m)\u001b[0m\u001b[0;34m[\u001b[0m\u001b[0;36m1\u001b[0m\u001b[0;34m]\u001b[0m\u001b[0;34m\u001b[0m\u001b[0;34m\u001b[0m\u001b[0m\n",
      "\u001b[0;31mTypeError\u001b[0m: 'months' is an invalid keyword argument for __new__()"
     ]
    }
   ],
   "source": [
    "import calendar\n",
    "from datetime import timedelta\n",
    "dt2 = datetime(2020,2, calendar.monthrange(2020,2)[1])\n",
    "dt3 = dt2 + timedelta(months=12)\n",
    "calendar.monthrange(2020,2)[1]"
   ]
  },
  {
   "cell_type": "code",
   "execution_count": 164,
   "metadata": {
    "scrolled": true
   },
   "outputs": [],
   "source": [
    "import dateutil"
   ]
  },
  {
   "cell_type": "code",
   "execution_count": 165,
   "metadata": {},
   "outputs": [],
   "source": [
    "from dateutil.relativedelta import relativedelta"
   ]
  },
  {
   "cell_type": "code",
   "execution_count": 166,
   "metadata": {},
   "outputs": [],
   "source": [
    "dt1 = datetime(2020,2,29)"
   ]
  },
  {
   "cell_type": "code",
   "execution_count": 169,
   "metadata": {},
   "outputs": [],
   "source": [
    "dt2 = dt1 + relativedelta(months=12)\n",
    "dt3 = dt2 + relativedelta(months=12)"
   ]
  },
  {
   "cell_type": "code",
   "execution_count": 172,
   "metadata": {},
   "outputs": [
    {
     "data": {
      "text/plain": [
       "(datetime.datetime(2021, 2, 28, 0, 0),\n",
       " datetime.datetime(2022, 2, 28, 0, 0),\n",
       " 2022,\n",
       " 2)"
      ]
     },
     "execution_count": 172,
     "metadata": {},
     "output_type": "execute_result"
    }
   ],
   "source": [
    "dt2,dt3,dt3.year,dt3.month"
   ]
  },
  {
   "cell_type": "code",
   "execution_count": null,
   "metadata": {},
   "outputs": [],
   "source": []
  }
 ],
 "metadata": {
  "kernelspec": {
   "display_name": "Python 3",
   "language": "python",
   "name": "python3"
  },
  "language_info": {
   "codemirror_mode": {
    "name": "ipython",
    "version": 3
   },
   "file_extension": ".py",
   "mimetype": "text/x-python",
   "name": "python",
   "nbconvert_exporter": "python",
   "pygments_lexer": "ipython3",
   "version": "3.7.4"
  }
 },
 "nbformat": 4,
 "nbformat_minor": 2
}
